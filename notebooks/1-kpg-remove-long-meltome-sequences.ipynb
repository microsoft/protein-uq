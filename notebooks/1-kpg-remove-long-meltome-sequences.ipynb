{
 "cells": [
  {
   "cell_type": "code",
   "execution_count": 1,
   "id": "190307d3",
   "metadata": {},
   "outputs": [],
   "source": [
    "import pandas as pd"
   ]
  },
  {
   "cell_type": "code",
   "execution_count": 2,
   "id": "d00a4f39",
   "metadata": {},
   "outputs": [
    {
     "data": {
      "text/html": [
       "<div>\n",
       "<style scoped>\n",
       "    .dataframe tbody tr th:only-of-type {\n",
       "        vertical-align: middle;\n",
       "    }\n",
       "\n",
       "    .dataframe tbody tr th {\n",
       "        vertical-align: top;\n",
       "    }\n",
       "\n",
       "    .dataframe thead th {\n",
       "        text-align: right;\n",
       "    }\n",
       "</style>\n",
       "<table border=\"1\" class=\"dataframe\">\n",
       "  <thead>\n",
       "    <tr style=\"text-align: right;\">\n",
       "      <th></th>\n",
       "      <th>sequence</th>\n",
       "      <th>target</th>\n",
       "      <th>set</th>\n",
       "      <th>validation</th>\n",
       "    </tr>\n",
       "  </thead>\n",
       "  <tbody>\n",
       "    <tr>\n",
       "      <th>0</th>\n",
       "      <td>MSGEEEKAADFYVRYYVGHKGKFGHEFLEFEFRPNGSLRYANNSNY...</td>\n",
       "      <td>37.962947</td>\n",
       "      <td>train</td>\n",
       "      <td>NaN</td>\n",
       "    </tr>\n",
       "    <tr>\n",
       "      <th>1</th>\n",
       "      <td>MSMGSDFYLRYYVGHKGKFGHEFLEFEFRPDGKLRYANNSNYKNDV...</td>\n",
       "      <td>54.425342</td>\n",
       "      <td>train</td>\n",
       "      <td>NaN</td>\n",
       "    </tr>\n",
       "    <tr>\n",
       "      <th>2</th>\n",
       "      <td>MRICFLLLAFLVAETFANELTRCCAGGTRHFKNSNTCSSIKSEGTS...</td>\n",
       "      <td>49.459216</td>\n",
       "      <td>train</td>\n",
       "      <td>NaN</td>\n",
       "    </tr>\n",
       "    <tr>\n",
       "      <th>3</th>\n",
       "      <td>MIRVALPTTASAIPRSISTSPGETISKNHEEEVKRVWRKADAVCFD...</td>\n",
       "      <td>42.593131</td>\n",
       "      <td>train</td>\n",
       "      <td>NaN</td>\n",
       "    </tr>\n",
       "    <tr>\n",
       "      <th>4</th>\n",
       "      <td>MNGDWSRAFVLSKVKNLYFFVIIDKGFSAILNDPREPVQVGGFFEV...</td>\n",
       "      <td>37.999478</td>\n",
       "      <td>train</td>\n",
       "      <td>NaN</td>\n",
       "    </tr>\n",
       "    <tr>\n",
       "      <th>...</th>\n",
       "      <td>...</td>\n",
       "      <td>...</td>\n",
       "      <td>...</td>\n",
       "      <td>...</td>\n",
       "    </tr>\n",
       "    <tr>\n",
       "      <th>27946</th>\n",
       "      <td>MDLPALLPAPTARGGQHGGGPGPLRRAPAPLGASPARRRLLLVRGP...</td>\n",
       "      <td>47.008000</td>\n",
       "      <td>train</td>\n",
       "      <td>NaN</td>\n",
       "    </tr>\n",
       "    <tr>\n",
       "      <th>27947</th>\n",
       "      <td>MPEDQAGAAMEEASPYSLLDICLNFLTTHLEKFCSARQDGTLCLQE...</td>\n",
       "      <td>51.897881</td>\n",
       "      <td>train</td>\n",
       "      <td>NaN</td>\n",
       "    </tr>\n",
       "    <tr>\n",
       "      <th>27948</th>\n",
       "      <td>MAAPRPSPAISVSVSAPAFYAPQKKFGPVVAPKPKVNPFRPGDSEP...</td>\n",
       "      <td>63.573439</td>\n",
       "      <td>train</td>\n",
       "      <td>NaN</td>\n",
       "    </tr>\n",
       "    <tr>\n",
       "      <th>27949</th>\n",
       "      <td>MGNAPSHSSEDEAAAAGGEGWGPHQDWAAVSGTTPGPGVAAPALPP...</td>\n",
       "      <td>51.344374</td>\n",
       "      <td>test</td>\n",
       "      <td>NaN</td>\n",
       "    </tr>\n",
       "    <tr>\n",
       "      <th>27950</th>\n",
       "      <td>MAASRSTRVTRSTVGLNGLDESFCGRTLRNRSIAHPEEISSNSQVR...</td>\n",
       "      <td>46.142850</td>\n",
       "      <td>test</td>\n",
       "      <td>NaN</td>\n",
       "    </tr>\n",
       "  </tbody>\n",
       "</table>\n",
       "<p>27951 rows × 4 columns</p>\n",
       "</div>"
      ],
      "text/plain": [
       "                                                sequence     target    set  \\\n",
       "0      MSGEEEKAADFYVRYYVGHKGKFGHEFLEFEFRPNGSLRYANNSNY...  37.962947  train   \n",
       "1      MSMGSDFYLRYYVGHKGKFGHEFLEFEFRPDGKLRYANNSNYKNDV...  54.425342  train   \n",
       "2      MRICFLLLAFLVAETFANELTRCCAGGTRHFKNSNTCSSIKSEGTS...  49.459216  train   \n",
       "3      MIRVALPTTASAIPRSISTSPGETISKNHEEEVKRVWRKADAVCFD...  42.593131  train   \n",
       "4      MNGDWSRAFVLSKVKNLYFFVIIDKGFSAILNDPREPVQVGGFFEV...  37.999478  train   \n",
       "...                                                  ...        ...    ...   \n",
       "27946  MDLPALLPAPTARGGQHGGGPGPLRRAPAPLGASPARRRLLLVRGP...  47.008000  train   \n",
       "27947  MPEDQAGAAMEEASPYSLLDICLNFLTTHLEKFCSARQDGTLCLQE...  51.897881  train   \n",
       "27948  MAAPRPSPAISVSVSAPAFYAPQKKFGPVVAPKPKVNPFRPGDSEP...  63.573439  train   \n",
       "27949  MGNAPSHSSEDEAAAAGGEGWGPHQDWAAVSGTTPGPGVAAPALPP...  51.344374   test   \n",
       "27950  MAASRSTRVTRSTVGLNGLDESFCGRTLRNRSIAHPEEISSNSQVR...  46.142850   test   \n",
       "\n",
       "      validation  \n",
       "0            NaN  \n",
       "1            NaN  \n",
       "2            NaN  \n",
       "3            NaN  \n",
       "4            NaN  \n",
       "...          ...  \n",
       "27946        NaN  \n",
       "27947        NaN  \n",
       "27948        NaN  \n",
       "27949        NaN  \n",
       "27950        NaN  \n",
       "\n",
       "[27951 rows x 4 columns]"
      ]
     },
     "execution_count": 2,
     "metadata": {},
     "output_type": "execute_result"
    }
   ],
   "source": [
    "df = pd.read_csv('../data/meltome/splits/mixed_split.csv')\n",
    "df"
   ]
  },
  {
   "cell_type": "code",
   "execution_count": 3,
   "id": "0ed3c6f6",
   "metadata": {},
   "outputs": [
    {
     "data": {
      "text/html": [
       "<div>\n",
       "<style scoped>\n",
       "    .dataframe tbody tr th:only-of-type {\n",
       "        vertical-align: middle;\n",
       "    }\n",
       "\n",
       "    .dataframe tbody tr th {\n",
       "        vertical-align: top;\n",
       "    }\n",
       "\n",
       "    .dataframe thead th {\n",
       "        text-align: right;\n",
       "    }\n",
       "</style>\n",
       "<table border=\"1\" class=\"dataframe\">\n",
       "  <thead>\n",
       "    <tr style=\"text-align: right;\">\n",
       "      <th></th>\n",
       "      <th>sequence</th>\n",
       "      <th>target</th>\n",
       "      <th>set</th>\n",
       "      <th>validation</th>\n",
       "      <th>len</th>\n",
       "    </tr>\n",
       "  </thead>\n",
       "  <tbody>\n",
       "    <tr>\n",
       "      <th>0</th>\n",
       "      <td>MSGEEEKAADFYVRYYVGHKGKFGHEFLEFEFRPNGSLRYANNSNY...</td>\n",
       "      <td>37.962947</td>\n",
       "      <td>train</td>\n",
       "      <td>NaN</td>\n",
       "      <td>152</td>\n",
       "    </tr>\n",
       "    <tr>\n",
       "      <th>1</th>\n",
       "      <td>MSMGSDFYLRYYVGHKGKFGHEFLEFEFRPDGKLRYANNSNYKNDV...</td>\n",
       "      <td>54.425342</td>\n",
       "      <td>train</td>\n",
       "      <td>NaN</td>\n",
       "      <td>148</td>\n",
       "    </tr>\n",
       "    <tr>\n",
       "      <th>2</th>\n",
       "      <td>MRICFLLLAFLVAETFANELTRCCAGGTRHFKNSNTCSSIKSEGTS...</td>\n",
       "      <td>49.459216</td>\n",
       "      <td>train</td>\n",
       "      <td>NaN</td>\n",
       "      <td>605</td>\n",
       "    </tr>\n",
       "    <tr>\n",
       "      <th>3</th>\n",
       "      <td>MIRVALPTTASAIPRSISTSPGETISKNHEEEVKRVWRKADAVCFD...</td>\n",
       "      <td>42.593131</td>\n",
       "      <td>train</td>\n",
       "      <td>NaN</td>\n",
       "      <td>263</td>\n",
       "    </tr>\n",
       "    <tr>\n",
       "      <th>4</th>\n",
       "      <td>MNGDWSRAFVLSKVKNLYFFVIIDKGFSAILNDPREPVQVGGFFEV...</td>\n",
       "      <td>37.999478</td>\n",
       "      <td>train</td>\n",
       "      <td>NaN</td>\n",
       "      <td>574</td>\n",
       "    </tr>\n",
       "    <tr>\n",
       "      <th>...</th>\n",
       "      <td>...</td>\n",
       "      <td>...</td>\n",
       "      <td>...</td>\n",
       "      <td>...</td>\n",
       "      <td>...</td>\n",
       "    </tr>\n",
       "    <tr>\n",
       "      <th>27946</th>\n",
       "      <td>MDLPALLPAPTARGGQHGGGPGPLRRAPAPLGASPARRRLLLVRGP...</td>\n",
       "      <td>47.008000</td>\n",
       "      <td>train</td>\n",
       "      <td>NaN</td>\n",
       "      <td>858</td>\n",
       "    </tr>\n",
       "    <tr>\n",
       "      <th>27947</th>\n",
       "      <td>MPEDQAGAAMEEASPYSLLDICLNFLTTHLEKFCSARQDGTLCLQE...</td>\n",
       "      <td>51.897881</td>\n",
       "      <td>train</td>\n",
       "      <td>NaN</td>\n",
       "      <td>744</td>\n",
       "    </tr>\n",
       "    <tr>\n",
       "      <th>27948</th>\n",
       "      <td>MAAPRPSPAISVSVSAPAFYAPQKKFGPVVAPKPKVNPFRPGDSEP...</td>\n",
       "      <td>63.573439</td>\n",
       "      <td>train</td>\n",
       "      <td>NaN</td>\n",
       "      <td>572</td>\n",
       "    </tr>\n",
       "    <tr>\n",
       "      <th>27949</th>\n",
       "      <td>MGNAPSHSSEDEAAAAGGEGWGPHQDWAAVSGTTPGPGVAAPALPP...</td>\n",
       "      <td>51.344374</td>\n",
       "      <td>test</td>\n",
       "      <td>NaN</td>\n",
       "      <td>2961</td>\n",
       "    </tr>\n",
       "    <tr>\n",
       "      <th>27950</th>\n",
       "      <td>MAASRSTRVTRSTVGLNGLDESFCGRTLRNRSIAHPEEISSNSQVR...</td>\n",
       "      <td>46.142850</td>\n",
       "      <td>test</td>\n",
       "      <td>NaN</td>\n",
       "      <td>903</td>\n",
       "    </tr>\n",
       "  </tbody>\n",
       "</table>\n",
       "<p>27951 rows × 5 columns</p>\n",
       "</div>"
      ],
      "text/plain": [
       "                                                sequence     target    set  \\\n",
       "0      MSGEEEKAADFYVRYYVGHKGKFGHEFLEFEFRPNGSLRYANNSNY...  37.962947  train   \n",
       "1      MSMGSDFYLRYYVGHKGKFGHEFLEFEFRPDGKLRYANNSNYKNDV...  54.425342  train   \n",
       "2      MRICFLLLAFLVAETFANELTRCCAGGTRHFKNSNTCSSIKSEGTS...  49.459216  train   \n",
       "3      MIRVALPTTASAIPRSISTSPGETISKNHEEEVKRVWRKADAVCFD...  42.593131  train   \n",
       "4      MNGDWSRAFVLSKVKNLYFFVIIDKGFSAILNDPREPVQVGGFFEV...  37.999478  train   \n",
       "...                                                  ...        ...    ...   \n",
       "27946  MDLPALLPAPTARGGQHGGGPGPLRRAPAPLGASPARRRLLLVRGP...  47.008000  train   \n",
       "27947  MPEDQAGAAMEEASPYSLLDICLNFLTTHLEKFCSARQDGTLCLQE...  51.897881  train   \n",
       "27948  MAAPRPSPAISVSVSAPAFYAPQKKFGPVVAPKPKVNPFRPGDSEP...  63.573439  train   \n",
       "27949  MGNAPSHSSEDEAAAAGGEGWGPHQDWAAVSGTTPGPGVAAPALPP...  51.344374   test   \n",
       "27950  MAASRSTRVTRSTVGLNGLDESFCGRTLRNRSIAHPEEISSNSQVR...  46.142850   test   \n",
       "\n",
       "      validation   len  \n",
       "0            NaN   152  \n",
       "1            NaN   148  \n",
       "2            NaN   605  \n",
       "3            NaN   263  \n",
       "4            NaN   574  \n",
       "...          ...   ...  \n",
       "27946        NaN   858  \n",
       "27947        NaN   744  \n",
       "27948        NaN   572  \n",
       "27949        NaN  2961  \n",
       "27950        NaN   903  \n",
       "\n",
       "[27951 rows x 5 columns]"
      ]
     },
     "execution_count": 3,
     "metadata": {},
     "output_type": "execute_result"
    }
   ],
   "source": [
    "df['len'] = df['sequence'].apply(lambda x: len(x))\n",
    "df"
   ]
  },
  {
   "cell_type": "code",
   "execution_count": 4,
   "id": "4a85772b",
   "metadata": {},
   "outputs": [
    {
     "data": {
      "text/plain": [
       "<AxesSubplot:>"
      ]
     },
     "execution_count": 4,
     "metadata": {},
     "output_type": "execute_result"
    },
    {
     "data": {
      "image/png": "[encoded data removed]",
      "text/plain": [
       "<Figure size 432x288 with 1 Axes>"
      ]
     },
     "metadata": {
      "needs_background": "light"
     },
     "output_type": "display_data"
    }
   ],
   "source": [
    "df['len'].hist(log=True, bins=20)"
   ]
  },
  {
   "cell_type": "code",
   "execution_count": 5,
   "id": "99bcbbfe",
   "metadata": {},
   "outputs": [
    {
     "data": {
      "text/plain": [
       "[35213,\n",
       " 18562,\n",
       " 18141,\n",
       " 8797,\n",
       " 8545,\n",
       " 7570,\n",
       " 7406,\n",
       " 7355,\n",
       " 7354,\n",
       " 7158,\n",
       " 6994,\n",
       " 6885,\n",
       " 6669,\n",
       " 5890,\n",
       " 5890,\n",
       " 5890,\n",
       " 5890,\n",
       " 5890,\n",
       " 5890,\n",
       " 5890,\n",
       " 5890,\n",
       " 5795,\n",
       " 5589,\n",
       " 5588,\n",
       " 5560,\n",
       " 5488,\n",
       " 5333,\n",
       " 5322,\n",
       " 5175,\n",
       " 5151]"
      ]
     },
     "execution_count": 5,
     "metadata": {},
     "output_type": "execute_result"
    }
   ],
   "source": [
    "sorted(df['len'], reverse=True)[:30]"
   ]
  },
  {
   "cell_type": "markdown",
   "id": "17491f2d",
   "metadata": {},
   "source": [
    "# Drop Top 3"
   ]
  },
  {
   "cell_type": "code",
   "execution_count": 6,
   "id": "f92ae41a",
   "metadata": {},
   "outputs": [
    {
     "name": "stdout",
     "output_type": "stream",
     "text": [
      "Int64Index([1090, 2222, 17601], dtype='int64')\n"
     ]
    }
   ],
   "source": [
    "long_idx = df.loc[df['len'] > 10000].index\n",
    "print(long_idx)\n",
    "df.drop(long_idx, inplace=True)\n",
    "df.drop(columns=['len']).to_csv('../data/meltome/splits/mixed_split_short.csv', index=False)"
   ]
  },
  {
   "cell_type": "markdown",
   "id": "165c7220",
   "metadata": {},
   "source": [
    "# Drop Top 0.1%"
   ]
  },
  {
   "cell_type": "code",
   "execution_count": 7,
   "id": "32b87be5",
   "metadata": {},
   "outputs": [
    {
     "name": "stdout",
     "output_type": "stream",
     "text": [
      "Dropping top 0.1% will drop 28 sequences, with the longest having length 5088\n"
     ]
    }
   ],
   "source": [
    "idx = round(len(df)/1000)\n",
    "print('Dropping top 0.1% will drop', idx, \n",
    "      'sequences, with the longest having length', sorted(df['len'], reverse=True)[idx])"
   ]
  },
  {
   "cell_type": "code",
   "execution_count": 8,
   "id": "d605adaf",
   "metadata": {},
   "outputs": [
    {
     "name": "stdout",
     "output_type": "stream",
     "text": [
      "Int64Index([   37,  1068,  1743,  1892,  2084,  3236, 10726, 11266, 15912,\n",
      "            17945, 18042, 18588, 20108, 20109, 20110, 20111, 20112, 20113,\n",
      "            20114, 20115, 20116, 21867, 24374, 26774, 26775],\n",
      "           dtype='int64')\n"
     ]
    }
   ],
   "source": [
    "long_idx = df.loc[df['len'] > 5175].index\n",
    "print(long_idx)\n",
    "df.drop(long_idx, inplace=True)\n",
    "df.drop(columns=['len']).to_csv('../data/meltome/splits/mixed_split_short999.csv', index=False)"
   ]
  },
  {
   "cell_type": "markdown",
   "id": "9947277f",
   "metadata": {},
   "source": [
    "# Drop Top 1%"
   ]
  },
  {
   "cell_type": "code",
   "execution_count": 9,
   "id": "e2987ffc",
   "metadata": {},
   "outputs": [
    {
     "name": "stdout",
     "output_type": "stream",
     "text": [
      "Dropping top 1% will drop 279 sequences, with the longest having length 2364\n"
     ]
    }
   ],
   "source": [
    "idx = round(len(df)/100)\n",
    "print('Dropping top 1% will drop', idx, \n",
    "      'sequences, with the longest having length', sorted(df['len'], reverse=True)[idx])"
   ]
  },
  {
   "cell_type": "code",
   "execution_count": 10,
   "id": "69ddbf23",
   "metadata": {},
   "outputs": [
    {
     "name": "stdout",
     "output_type": "stream",
     "text": [
      "Int64Index([   19,    39,    63,    64,    91,   778,   939,   983,  1145,\n",
      "             1221,\n",
      "            ...\n",
      "            27474, 27488, 27509, 27525, 27526, 27548, 27748, 27769, 27866,\n",
      "            27949],\n",
      "           dtype='int64', length=251)\n"
     ]
    }
   ],
   "source": [
    "long_idx = df.loc[df['len'] > 2417].index\n",
    "print(long_idx)\n",
    "df.drop(long_idx, inplace=True)\n",
    "df.drop(columns=['len']).to_csv('../data/meltome/splits/mixed_split_short99.csv', index=False)"
   ]
  }
 ],
 "metadata": {
  "kernelspec": {
   "display_name": "Python [conda env:htvs]",
   "language": "python",
   "name": "conda-env-htvs-py"
  },
  "language_info": {
   "codemirror_mode": {
    "name": "ipython",
    "version": 3
   },
   "file_extension": ".py",
   "mimetype": "text/x-python",
   "name": "python",
   "nbconvert_exporter": "python",
   "pygments_lexer": "ipython3",
   "version": "3.7.12"
  }
 },
 "nbformat": 4,
 "nbformat_minor": 5
}
